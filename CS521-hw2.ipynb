{
 "cells": [
  {
   "cell_type": "code",
   "execution_count": 9,
   "id": "1d0ff84c-3a18-4c3e-a12e-39476b172dee",
   "metadata": {},
   "outputs": [],
   "source": [
    "import os\n",
    "import torch\n",
    "from torch import nn\n",
    "from torch.utils.data import DataLoader\n",
    "from torchvision import datasets, transforms\n",
    "import torch.optim as optim\n",
    "import torch.nn.functional as F\n",
    "import numpy as np\n",
    "import time\n",
    "import matplotlib.pyplot as plt"
   ]
  },
  {
   "cell_type": "code",
   "execution_count": 10,
   "id": "eee47fbc-4969-4f36-862f-cef2f1b0c84e",
   "metadata": {},
   "outputs": [],
   "source": [
    "device = (\n",
    "    \"cuda\"\n",
    "    if torch.cuda.is_available()\n",
    "    else \"mps\"\n",
    "    if torch.backends.mps.is_available()\n",
    "    else \"cpu\"\n",
    ")\n",
    "batch_size = 64\n",
    "np.random.seed(42)\n",
    "torch.manual_seed(42)\n",
    "\n",
    "## Dataloaders\n",
    "train_dataset = datasets.MNIST('mnist_data/', train=True, download=True, transform=transforms.Compose(\n",
    "    [transforms.ToTensor()]\n",
    "))\n",
    "test_dataset = datasets.MNIST('mnist_data/', train=False, download=True, transform=transforms.Compose(\n",
    "    [transforms.ToTensor()]\n",
    "))\n",
    "\n",
    "train_loader = torch.utils.data.DataLoader(train_dataset, batch_size=batch_size, shuffle=True)\n",
    "test_loader = torch.utils.data.DataLoader(test_dataset, batch_size=batch_size, shuffle=False)\n"
   ]
  },
  {
   "cell_type": "code",
   "execution_count": 36,
   "id": "90d95983-dc09-43e4-b017-4534b8dc1ce1",
   "metadata": {},
   "outputs": [
    {
     "data": {
      "text/plain": [
       "NeuralNetwork(\n",
       "  (flatten): Flatten(start_dim=1, end_dim=-1)\n",
       "  (linear_relu_stack): Sequential(\n",
       "    (0): Linear(in_features=784, out_features=50, bias=True)\n",
       "    (1): ReLU()\n",
       "    (2): Linear(in_features=50, out_features=50, bias=True)\n",
       "    (3): ReLU()\n",
       "    (4): Linear(in_features=50, out_features=10, bias=True)\n",
       "    (5): ReLU()\n",
       "  )\n",
       ")"
      ]
     },
     "execution_count": 36,
     "metadata": {},
     "output_type": "execute_result"
    }
   ],
   "source": [
    "#Implement Neural Network\n",
    "class NeuralNetwork(nn.Module):\n",
    "    def __init__(self):\n",
    "        super().__init__()\n",
    "        self.flatten = nn.Flatten()\n",
    "        self.linear_relu_stack = nn.Sequential(\n",
    "            nn.Linear(28*28, 50),\n",
    "            nn.ReLU(),\n",
    "            nn.Linear(50, 50),\n",
    "            nn.ReLU(),\n",
    "            nn.Linear(50, 10),\n",
    "            nn.ReLU(),\n",
    "        )\n",
    "\n",
    "    def forward(self, x):\n",
    "        x = self.flatten(x)\n",
    "        x = self.linear_relu_stack(x)\n",
    "        return x\n",
    "        \n",
    "model = NeuralNetwork().to(device)\n",
    "model.train()\n",
    "    "
   ]
  },
  {
   "cell_type": "code",
   "execution_count": 31,
   "id": "538447d7-45ae-4b8a-a1cf-e23728b34637",
   "metadata": {},
   "outputs": [],
   "source": [
    "def train_model(model, num_epochs):\n",
    "    # TODO: implement this function that trains a given model on the MNIST dataset.\n",
    "    # this is a general-purpose function for both standard training and adversarial training.\n",
    "    # (toggle enable_defense parameter to switch between training schemes)\n",
    "    model.train()\n",
    "    optimizer = optim.Adadelta(model.parameters(), lr=1)\n",
    "    for i in range(num_epochs):\n",
    "        for idx, (data, target) in enumerate(train_loader):\n",
    "            data, target = data.to(device), target.to(device)\n",
    "            optimizer.zero_grad()\n",
    "            output = model(data)\n",
    "            loss = nn.CrossEntropyLoss()(output, target)\n",
    "            loss.backward()\n",
    "            optimizer.step()\n",
    "            #if idx % 10 == 0:\n",
    "                #print(loss)"
   ]
  },
  {
   "cell_type": "code",
   "execution_count": 32,
   "id": "3356e843-a828-4235-a3d1-b52612ca91fe",
   "metadata": {},
   "outputs": [],
   "source": [
    "train_model(model, 1)"
   ]
  },
  {
   "cell_type": "code",
   "execution_count": 33,
   "id": "1269dda3-180f-412a-a9dc-b25084248910",
   "metadata": {},
   "outputs": [],
   "source": [
    "def standard_test(model, device, test_loader):\n",
    "    model.eval()\n",
    "    correct = 0\n",
    "    for data, target in test_loader:\n",
    "        data, target = data.to(device), target.to(device)\n",
    "        output = model(data)\n",
    "        pred = output.argmax(dim=1, keepdim=True) \n",
    "        correct += pred.eq(target.view_as(pred)).sum().item()\n",
    "\n",
    "    print('\\n Accuracy: {}/{} ({:.0f}%)\\n'.format(\n",
    "        correct, len(test_loader.dataset),\n",
    "        100. * correct / len(test_loader.dataset)))"
   ]
  },
  {
   "cell_type": "code",
   "execution_count": 34,
   "id": "2b9fd579-72a5-4860-8f0b-94d828732534",
   "metadata": {},
   "outputs": [
    {
     "name": "stdout",
     "output_type": "stream",
     "text": [
      "\n",
      " Accuracy: 7807/10000 (78%)\n",
      "\n"
     ]
    }
   ],
   "source": [
    "standard_test(model, device, test_loader)"
   ]
  },
  {
   "cell_type": "code",
   "execution_count": 192,
   "id": "ed008fdd-30f9-4832-bafb-865bb03b2646",
   "metadata": {},
   "outputs": [],
   "source": [
    "def interval_analysis(lower, upper):\n",
    "    layers = list(model.linear_relu_stack)\n",
    "    flatten_lower = lower.view(-1, 28 * 28)\n",
    "    flatten_upper = upper.view(-1, 28 * 28)\n",
    "    curr_lower = flatten_lower\n",
    "    curr_upper = flatten_upper\n",
    "    for layer in layers:\n",
    "        if isinstance(layer, nn.Linear):\n",
    "            curr_lower = torch.matmul(curr_lower, layer.weight.T)+layer.bias\n",
    "            curr_upper = torch.matmul(curr_upper, layer.weight.T)+layer.bias\n",
    "        if isinstance(layer, nn.ReLU):\n",
    "            curr_lower = torch.relu(curr_lower)\n",
    "            curr_upper = torch.relu(curr_upper)\n",
    "    return (curr_lower, curr_upper)"
   ]
  },
  {
   "cell_type": "code",
   "execution_count": 207,
   "id": "c2ed3a65-56bc-47fd-86b0-cfd2898fec01",
   "metadata": {},
   "outputs": [
    {
     "name": "stdout",
     "output_type": "stream",
     "text": [
      "0.08799999999999997\n",
      "0.0807\n",
      "0.07469999999999999\n",
      "0.06779999999999997\n",
      "0.061899999999999955\n",
      "0.05679999999999996\n",
      "0.0524\n",
      "0.04720000000000002\n",
      "0.04369999999999996\n",
      "0.03859999999999997\n"
     ]
    }
   ],
   "source": [
    "\n",
    "for LInf in torch.linspace(0.01, 0.1, 10):\n",
    "    total = 0\n",
    "    count = 0\n",
    "    for data, target in test_loader:\n",
    "        for image in data:\n",
    "            total+=1\n",
    "            lower = torch.clamp(image - LInf, 0, 1)\n",
    "            upper = torch.clamp(image + LInf, 0, 1)\n",
    "            output = interval_analysis(lower, upper)\n",
    "            prediction_lower = output[0].argmax(1, keepdim=True)\n",
    "            prediction_upper = output[1].argmax(1, keepdim=True)\n",
    "            #print(output[0][0][prediction_lower], prediction_upper)\n",
    "            \n",
    "            if output[0][0][prediction_lower] > output[1][0][prediction_lower]:\n",
    "                count += 1\n",
    "    print(1-count/total)"
   ]
  },
  {
   "cell_type": "code",
   "execution_count": null,
   "id": "5da8ff41-c467-415e-80e9-0adf094cfc1f",
   "metadata": {},
   "outputs": [],
   "source": []
  }
 ],
 "metadata": {
  "kernelspec": {
   "display_name": "Python 3 (ipykernel)",
   "language": "python",
   "name": "python3"
  },
  "language_info": {
   "codemirror_mode": {
    "name": "ipython",
    "version": 3
   },
   "file_extension": ".py",
   "mimetype": "text/x-python",
   "name": "python",
   "nbconvert_exporter": "python",
   "pygments_lexer": "ipython3",
   "version": "3.9.6"
  }
 },
 "nbformat": 4,
 "nbformat_minor": 5
}
